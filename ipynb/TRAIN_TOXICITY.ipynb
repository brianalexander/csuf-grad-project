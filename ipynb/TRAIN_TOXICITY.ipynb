{
  "nbformat": 4,
  "nbformat_minor": 0,
  "metadata": {
    "colab": {
      "name": "TRAIN_TOXICITY",
      "provenance": [],
      "collapsed_sections": []
    },
    "kernelspec": {
      "name": "python3",
      "display_name": "Python 3"
    },
    "accelerator": "GPU",
    "widgets": {
      "application/vnd.jupyter.widget-state+json": {
        "92b3b5c4ed214b7ab24390ed73c57e41": {
          "model_module": "@jupyter-widgets/controls",
          "model_name": "HBoxModel",
          "state": {
            "_dom_classes": [],
            "_model_module": "@jupyter-widgets/controls",
            "_model_module_version": "1.5.0",
            "_model_name": "HBoxModel",
            "_view_count": null,
            "_view_module": "@jupyter-widgets/controls",
            "_view_module_version": "1.5.0",
            "_view_name": "HBoxView",
            "box_style": "",
            "children": [
              "IPY_MODEL_ab4e9925f55248c6835f0ad5ab127b6e",
              "IPY_MODEL_224d5116be9746a2a7d7d51167dbd9d5",
              "IPY_MODEL_d521ce66aca74e28bb9b9e71ab0f6574"
            ],
            "layout": "IPY_MODEL_8197b03f3aba486190356df2bc6e861c"
          }
        },
        "ab4e9925f55248c6835f0ad5ab127b6e": {
          "model_module": "@jupyter-widgets/controls",
          "model_name": "HTMLModel",
          "state": {
            "_dom_classes": [],
            "_model_module": "@jupyter-widgets/controls",
            "_model_module_version": "1.5.0",
            "_model_name": "HTMLModel",
            "_view_count": null,
            "_view_module": "@jupyter-widgets/controls",
            "_view_module_version": "1.5.0",
            "_view_name": "HTMLView",
            "description": "",
            "description_tooltip": null,
            "layout": "IPY_MODEL_5c97515c07df46dc95db856b0aeb7a55",
            "placeholder": "​",
            "style": "IPY_MODEL_99f36f470eac4756acb653d56044f5f0",
            "value": "Validation sanity check:  50%"
          }
        },
        "224d5116be9746a2a7d7d51167dbd9d5": {
          "model_module": "@jupyter-widgets/controls",
          "model_name": "FloatProgressModel",
          "state": {
            "_dom_classes": [],
            "_model_module": "@jupyter-widgets/controls",
            "_model_module_version": "1.5.0",
            "_model_name": "FloatProgressModel",
            "_view_count": null,
            "_view_module": "@jupyter-widgets/controls",
            "_view_module_version": "1.5.0",
            "_view_name": "ProgressView",
            "bar_style": "",
            "description": "",
            "description_tooltip": null,
            "layout": "IPY_MODEL_609e7b5c3b7e495dad192eaa13c07451",
            "max": 2,
            "min": 0,
            "orientation": "horizontal",
            "style": "IPY_MODEL_654128a9024a475e87b4a94593dc393e",
            "value": 2
          }
        },
        "d521ce66aca74e28bb9b9e71ab0f6574": {
          "model_module": "@jupyter-widgets/controls",
          "model_name": "HTMLModel",
          "state": {
            "_dom_classes": [],
            "_model_module": "@jupyter-widgets/controls",
            "_model_module_version": "1.5.0",
            "_model_name": "HTMLModel",
            "_view_count": null,
            "_view_module": "@jupyter-widgets/controls",
            "_view_module_version": "1.5.0",
            "_view_name": "HTMLView",
            "description": "",
            "description_tooltip": null,
            "layout": "IPY_MODEL_fe837293e79145c999aba73b072a19da",
            "placeholder": "​",
            "style": "IPY_MODEL_78d9fc923f3a40779b4ff06a699d6f62",
            "value": " 1/2 [00:00&lt;00:00,  1.96it/s]"
          }
        },
        "8197b03f3aba486190356df2bc6e861c": {
          "model_module": "@jupyter-widgets/base",
          "model_name": "LayoutModel",
          "state": {
            "_model_module": "@jupyter-widgets/base",
            "_model_module_version": "1.2.0",
            "_model_name": "LayoutModel",
            "_view_count": null,
            "_view_module": "@jupyter-widgets/base",
            "_view_module_version": "1.2.0",
            "_view_name": "LayoutView",
            "align_content": null,
            "align_items": null,
            "align_self": null,
            "border": null,
            "bottom": null,
            "display": "inline-flex",
            "flex": null,
            "flex_flow": "row wrap",
            "grid_area": null,
            "grid_auto_columns": null,
            "grid_auto_flow": null,
            "grid_auto_rows": null,
            "grid_column": null,
            "grid_gap": null,
            "grid_row": null,
            "grid_template_areas": null,
            "grid_template_columns": null,
            "grid_template_rows": null,
            "height": null,
            "justify_content": null,
            "justify_items": null,
            "left": null,
            "margin": null,
            "max_height": null,
            "max_width": null,
            "min_height": null,
            "min_width": null,
            "object_fit": null,
            "object_position": null,
            "order": null,
            "overflow": null,
            "overflow_x": null,
            "overflow_y": null,
            "padding": null,
            "right": null,
            "top": null,
            "visibility": null,
            "width": "100%"
          }
        },
        "5c97515c07df46dc95db856b0aeb7a55": {
          "model_module": "@jupyter-widgets/base",
          "model_name": "LayoutModel",
          "state": {
            "_model_module": "@jupyter-widgets/base",
            "_model_module_version": "1.2.0",
            "_model_name": "LayoutModel",
            "_view_count": null,
            "_view_module": "@jupyter-widgets/base",
            "_view_module_version": "1.2.0",
            "_view_name": "LayoutView",
            "align_content": null,
            "align_items": null,
            "align_self": null,
            "border": null,
            "bottom": null,
            "display": null,
            "flex": null,
            "flex_flow": null,
            "grid_area": null,
            "grid_auto_columns": null,
            "grid_auto_flow": null,
            "grid_auto_rows": null,
            "grid_column": null,
            "grid_gap": null,
            "grid_row": null,
            "grid_template_areas": null,
            "grid_template_columns": null,
            "grid_template_rows": null,
            "height": null,
            "justify_content": null,
            "justify_items": null,
            "left": null,
            "margin": null,
            "max_height": null,
            "max_width": null,
            "min_height": null,
            "min_width": null,
            "object_fit": null,
            "object_position": null,
            "order": null,
            "overflow": null,
            "overflow_x": null,
            "overflow_y": null,
            "padding": null,
            "right": null,
            "top": null,
            "visibility": null,
            "width": null
          }
        },
        "99f36f470eac4756acb653d56044f5f0": {
          "model_module": "@jupyter-widgets/controls",
          "model_name": "DescriptionStyleModel",
          "state": {
            "_model_module": "@jupyter-widgets/controls",
            "_model_module_version": "1.5.0",
            "_model_name": "DescriptionStyleModel",
            "_view_count": null,
            "_view_module": "@jupyter-widgets/base",
            "_view_module_version": "1.2.0",
            "_view_name": "StyleView",
            "description_width": ""
          }
        },
        "609e7b5c3b7e495dad192eaa13c07451": {
          "model_module": "@jupyter-widgets/base",
          "model_name": "LayoutModel",
          "state": {
            "_model_module": "@jupyter-widgets/base",
            "_model_module_version": "1.2.0",
            "_model_name": "LayoutModel",
            "_view_count": null,
            "_view_module": "@jupyter-widgets/base",
            "_view_module_version": "1.2.0",
            "_view_name": "LayoutView",
            "align_content": null,
            "align_items": null,
            "align_self": null,
            "border": null,
            "bottom": null,
            "display": null,
            "flex": "2",
            "flex_flow": null,
            "grid_area": null,
            "grid_auto_columns": null,
            "grid_auto_flow": null,
            "grid_auto_rows": null,
            "grid_column": null,
            "grid_gap": null,
            "grid_row": null,
            "grid_template_areas": null,
            "grid_template_columns": null,
            "grid_template_rows": null,
            "height": null,
            "justify_content": null,
            "justify_items": null,
            "left": null,
            "margin": null,
            "max_height": null,
            "max_width": null,
            "min_height": null,
            "min_width": null,
            "object_fit": null,
            "object_position": null,
            "order": null,
            "overflow": null,
            "overflow_x": null,
            "overflow_y": null,
            "padding": null,
            "right": null,
            "top": null,
            "visibility": null,
            "width": null
          }
        },
        "654128a9024a475e87b4a94593dc393e": {
          "model_module": "@jupyter-widgets/controls",
          "model_name": "ProgressStyleModel",
          "state": {
            "_model_module": "@jupyter-widgets/controls",
            "_model_module_version": "1.5.0",
            "_model_name": "ProgressStyleModel",
            "_view_count": null,
            "_view_module": "@jupyter-widgets/base",
            "_view_module_version": "1.2.0",
            "_view_name": "StyleView",
            "bar_color": null,
            "description_width": ""
          }
        },
        "fe837293e79145c999aba73b072a19da": {
          "model_module": "@jupyter-widgets/base",
          "model_name": "LayoutModel",
          "state": {
            "_model_module": "@jupyter-widgets/base",
            "_model_module_version": "1.2.0",
            "_model_name": "LayoutModel",
            "_view_count": null,
            "_view_module": "@jupyter-widgets/base",
            "_view_module_version": "1.2.0",
            "_view_name": "LayoutView",
            "align_content": null,
            "align_items": null,
            "align_self": null,
            "border": null,
            "bottom": null,
            "display": null,
            "flex": null,
            "flex_flow": null,
            "grid_area": null,
            "grid_auto_columns": null,
            "grid_auto_flow": null,
            "grid_auto_rows": null,
            "grid_column": null,
            "grid_gap": null,
            "grid_row": null,
            "grid_template_areas": null,
            "grid_template_columns": null,
            "grid_template_rows": null,
            "height": null,
            "justify_content": null,
            "justify_items": null,
            "left": null,
            "margin": null,
            "max_height": null,
            "max_width": null,
            "min_height": null,
            "min_width": null,
            "object_fit": null,
            "object_position": null,
            "order": null,
            "overflow": null,
            "overflow_x": null,
            "overflow_y": null,
            "padding": null,
            "right": null,
            "top": null,
            "visibility": null,
            "width": null
          }
        },
        "78d9fc923f3a40779b4ff06a699d6f62": {
          "model_module": "@jupyter-widgets/controls",
          "model_name": "DescriptionStyleModel",
          "state": {
            "_model_module": "@jupyter-widgets/controls",
            "_model_module_version": "1.5.0",
            "_model_name": "DescriptionStyleModel",
            "_view_count": null,
            "_view_module": "@jupyter-widgets/base",
            "_view_module_version": "1.2.0",
            "_view_name": "StyleView",
            "description_width": ""
          }
        },
        "38b2fb2d90cc46f2bc763dcb0b8abe0b": {
          "model_module": "@jupyter-widgets/controls",
          "model_name": "HBoxModel",
          "state": {
            "_dom_classes": [],
            "_model_module": "@jupyter-widgets/controls",
            "_model_module_version": "1.5.0",
            "_model_name": "HBoxModel",
            "_view_count": null,
            "_view_module": "@jupyter-widgets/controls",
            "_view_module_version": "1.5.0",
            "_view_name": "HBoxView",
            "box_style": "",
            "children": [
              "IPY_MODEL_c67cd10151504fec91b48c3b18b2c476",
              "IPY_MODEL_f91a0fee9bde461c8fbcd391670bbe68",
              "IPY_MODEL_ba0e14411d3848c49ae9f2564898a3b8"
            ],
            "layout": "IPY_MODEL_5d8924f1ecec41f5add6fc78f5fd2bf3"
          }
        },
        "c67cd10151504fec91b48c3b18b2c476": {
          "model_module": "@jupyter-widgets/controls",
          "model_name": "HTMLModel",
          "state": {
            "_dom_classes": [],
            "_model_module": "@jupyter-widgets/controls",
            "_model_module_version": "1.5.0",
            "_model_name": "HTMLModel",
            "_view_count": null,
            "_view_module": "@jupyter-widgets/controls",
            "_view_module_version": "1.5.0",
            "_view_name": "HTMLView",
            "description": "",
            "description_tooltip": null,
            "layout": "IPY_MODEL_c56e841d86fd40cabe1f2014f85d67ad",
            "placeholder": "​",
            "style": "IPY_MODEL_598bb065fa1a489894d911896c0b58fa",
            "value": "Epoch 0:   0%"
          }
        },
        "f91a0fee9bde461c8fbcd391670bbe68": {
          "model_module": "@jupyter-widgets/controls",
          "model_name": "FloatProgressModel",
          "state": {
            "_dom_classes": [],
            "_model_module": "@jupyter-widgets/controls",
            "_model_module_version": "1.5.0",
            "_model_name": "FloatProgressModel",
            "_view_count": null,
            "_view_module": "@jupyter-widgets/controls",
            "_view_module_version": "1.5.0",
            "_view_name": "ProgressView",
            "bar_style": "",
            "description": "",
            "description_tooltip": null,
            "layout": "IPY_MODEL_48ff008e3cb84495bdd740645e18d51b",
            "max": 90244,
            "min": 0,
            "orientation": "horizontal",
            "style": "IPY_MODEL_34075940e75c428687cfe95096646c75",
            "value": 87
          }
        },
        "ba0e14411d3848c49ae9f2564898a3b8": {
          "model_module": "@jupyter-widgets/controls",
          "model_name": "HTMLModel",
          "state": {
            "_dom_classes": [],
            "_model_module": "@jupyter-widgets/controls",
            "_model_module_version": "1.5.0",
            "_model_name": "HTMLModel",
            "_view_count": null,
            "_view_module": "@jupyter-widgets/controls",
            "_view_module_version": "1.5.0",
            "_view_name": "HTMLView",
            "description": "",
            "description_tooltip": null,
            "layout": "IPY_MODEL_4126b03f01c440f895efeef4510f5047",
            "placeholder": "​",
            "style": "IPY_MODEL_dd1ae2093a4e4461aff84b6123845840",
            "value": " 87/90244 [00:43&lt;12:24:18,  2.02it/s, loss=0.659, v_num=0, val_loss_epoch=0.689, epoch_val_accuracy=0.531, epoch_val_loss=0.689, train_loss_step=0.711]"
          }
        },
        "5d8924f1ecec41f5add6fc78f5fd2bf3": {
          "model_module": "@jupyter-widgets/base",
          "model_name": "LayoutModel",
          "state": {
            "_model_module": "@jupyter-widgets/base",
            "_model_module_version": "1.2.0",
            "_model_name": "LayoutModel",
            "_view_count": null,
            "_view_module": "@jupyter-widgets/base",
            "_view_module_version": "1.2.0",
            "_view_name": "LayoutView",
            "align_content": null,
            "align_items": null,
            "align_self": null,
            "border": null,
            "bottom": null,
            "display": "inline-flex",
            "flex": null,
            "flex_flow": "row wrap",
            "grid_area": null,
            "grid_auto_columns": null,
            "grid_auto_flow": null,
            "grid_auto_rows": null,
            "grid_column": null,
            "grid_gap": null,
            "grid_row": null,
            "grid_template_areas": null,
            "grid_template_columns": null,
            "grid_template_rows": null,
            "height": null,
            "justify_content": null,
            "justify_items": null,
            "left": null,
            "margin": null,
            "max_height": null,
            "max_width": null,
            "min_height": null,
            "min_width": null,
            "object_fit": null,
            "object_position": null,
            "order": null,
            "overflow": null,
            "overflow_x": null,
            "overflow_y": null,
            "padding": null,
            "right": null,
            "top": null,
            "visibility": null,
            "width": "100%"
          }
        },
        "c56e841d86fd40cabe1f2014f85d67ad": {
          "model_module": "@jupyter-widgets/base",
          "model_name": "LayoutModel",
          "state": {
            "_model_module": "@jupyter-widgets/base",
            "_model_module_version": "1.2.0",
            "_model_name": "LayoutModel",
            "_view_count": null,
            "_view_module": "@jupyter-widgets/base",
            "_view_module_version": "1.2.0",
            "_view_name": "LayoutView",
            "align_content": null,
            "align_items": null,
            "align_self": null,
            "border": null,
            "bottom": null,
            "display": null,
            "flex": null,
            "flex_flow": null,
            "grid_area": null,
            "grid_auto_columns": null,
            "grid_auto_flow": null,
            "grid_auto_rows": null,
            "grid_column": null,
            "grid_gap": null,
            "grid_row": null,
            "grid_template_areas": null,
            "grid_template_columns": null,
            "grid_template_rows": null,
            "height": null,
            "justify_content": null,
            "justify_items": null,
            "left": null,
            "margin": null,
            "max_height": null,
            "max_width": null,
            "min_height": null,
            "min_width": null,
            "object_fit": null,
            "object_position": null,
            "order": null,
            "overflow": null,
            "overflow_x": null,
            "overflow_y": null,
            "padding": null,
            "right": null,
            "top": null,
            "visibility": null,
            "width": null
          }
        },
        "598bb065fa1a489894d911896c0b58fa": {
          "model_module": "@jupyter-widgets/controls",
          "model_name": "DescriptionStyleModel",
          "state": {
            "_model_module": "@jupyter-widgets/controls",
            "_model_module_version": "1.5.0",
            "_model_name": "DescriptionStyleModel",
            "_view_count": null,
            "_view_module": "@jupyter-widgets/base",
            "_view_module_version": "1.2.0",
            "_view_name": "StyleView",
            "description_width": ""
          }
        },
        "48ff008e3cb84495bdd740645e18d51b": {
          "model_module": "@jupyter-widgets/base",
          "model_name": "LayoutModel",
          "state": {
            "_model_module": "@jupyter-widgets/base",
            "_model_module_version": "1.2.0",
            "_model_name": "LayoutModel",
            "_view_count": null,
            "_view_module": "@jupyter-widgets/base",
            "_view_module_version": "1.2.0",
            "_view_name": "LayoutView",
            "align_content": null,
            "align_items": null,
            "align_self": null,
            "border": null,
            "bottom": null,
            "display": null,
            "flex": "2",
            "flex_flow": null,
            "grid_area": null,
            "grid_auto_columns": null,
            "grid_auto_flow": null,
            "grid_auto_rows": null,
            "grid_column": null,
            "grid_gap": null,
            "grid_row": null,
            "grid_template_areas": null,
            "grid_template_columns": null,
            "grid_template_rows": null,
            "height": null,
            "justify_content": null,
            "justify_items": null,
            "left": null,
            "margin": null,
            "max_height": null,
            "max_width": null,
            "min_height": null,
            "min_width": null,
            "object_fit": null,
            "object_position": null,
            "order": null,
            "overflow": null,
            "overflow_x": null,
            "overflow_y": null,
            "padding": null,
            "right": null,
            "top": null,
            "visibility": null,
            "width": null
          }
        },
        "34075940e75c428687cfe95096646c75": {
          "model_module": "@jupyter-widgets/controls",
          "model_name": "ProgressStyleModel",
          "state": {
            "_model_module": "@jupyter-widgets/controls",
            "_model_module_version": "1.5.0",
            "_model_name": "ProgressStyleModel",
            "_view_count": null,
            "_view_module": "@jupyter-widgets/base",
            "_view_module_version": "1.2.0",
            "_view_name": "StyleView",
            "bar_color": null,
            "description_width": ""
          }
        },
        "4126b03f01c440f895efeef4510f5047": {
          "model_module": "@jupyter-widgets/base",
          "model_name": "LayoutModel",
          "state": {
            "_model_module": "@jupyter-widgets/base",
            "_model_module_version": "1.2.0",
            "_model_name": "LayoutModel",
            "_view_count": null,
            "_view_module": "@jupyter-widgets/base",
            "_view_module_version": "1.2.0",
            "_view_name": "LayoutView",
            "align_content": null,
            "align_items": null,
            "align_self": null,
            "border": null,
            "bottom": null,
            "display": null,
            "flex": null,
            "flex_flow": null,
            "grid_area": null,
            "grid_auto_columns": null,
            "grid_auto_flow": null,
            "grid_auto_rows": null,
            "grid_column": null,
            "grid_gap": null,
            "grid_row": null,
            "grid_template_areas": null,
            "grid_template_columns": null,
            "grid_template_rows": null,
            "height": null,
            "justify_content": null,
            "justify_items": null,
            "left": null,
            "margin": null,
            "max_height": null,
            "max_width": null,
            "min_height": null,
            "min_width": null,
            "object_fit": null,
            "object_position": null,
            "order": null,
            "overflow": null,
            "overflow_x": null,
            "overflow_y": null,
            "padding": null,
            "right": null,
            "top": null,
            "visibility": null,
            "width": null
          }
        },
        "dd1ae2093a4e4461aff84b6123845840": {
          "model_module": "@jupyter-widgets/controls",
          "model_name": "DescriptionStyleModel",
          "state": {
            "_model_module": "@jupyter-widgets/controls",
            "_model_module_version": "1.5.0",
            "_model_name": "DescriptionStyleModel",
            "_view_count": null,
            "_view_module": "@jupyter-widgets/base",
            "_view_module_version": "1.2.0",
            "_view_name": "StyleView",
            "description_width": ""
          }
        }
      }
    }
  },
  "cells": [
    {
      "cell_type": "code",
      "metadata": {
        "id": "WpA1bOds0aIz",
        "colab": {
          "base_uri": "https://localhost:8080/"
        },
        "outputId": "a9d7b20b-a1da-4f7b-c914-f88663d4363e"
      },
      "source": [
        "!pip install transformers\n",
        "!pip install pytorch-lightning\n",
        "!pip install pandas\n",
        "!pip install numpy\n",
        "!pip install torch\n",
        "!pip install torchmetrics\n",
        "!pip install ipywidgets\n",
        "!pip install IProgress"
      ],
      "execution_count": null,
      "outputs": [
        {
          "output_type": "stream",
          "text": [
            "Defaulting to user installation because normal site-packages is not writeable\n",
            "Requirement already satisfied: transformers in /home/brian/.local/lib/python3.8/site-packages (4.6.0)\n",
            "Requirement already satisfied: regex!=2019.12.17 in /home/brian/.local/lib/python3.8/site-packages (from transformers) (2021.4.4)\n",
            "Requirement already satisfied: requests in /usr/lib/python3/dist-packages (from transformers) (2.22.0)\n",
            "Requirement already satisfied: tqdm>=4.27 in /home/brian/.local/lib/python3.8/site-packages (from transformers) (4.60.0)\n",
            "Requirement already satisfied: filelock in /home/brian/.local/lib/python3.8/site-packages (from transformers) (3.0.12)\n",
            "Requirement already satisfied: sacremoses in /home/brian/.local/lib/python3.8/site-packages (from transformers) (0.0.45)\n",
            "Requirement already satisfied: huggingface-hub==0.0.8 in /home/brian/.local/lib/python3.8/site-packages (from transformers) (0.0.8)\n",
            "Requirement already satisfied: numpy>=1.17 in /home/brian/.local/lib/python3.8/site-packages (from transformers) (1.18.3)\n",
            "Requirement already satisfied: packaging in /home/brian/.local/lib/python3.8/site-packages (from transformers) (20.9)\n",
            "Requirement already satisfied: tokenizers<0.11,>=0.10.1 in /home/brian/.local/lib/python3.8/site-packages (from transformers) (0.10.2)\n",
            "Requirement already satisfied: pyparsing>=2.0.2 in /home/brian/.local/lib/python3.8/site-packages (from packaging->transformers) (2.4.7)\n",
            "Requirement already satisfied: joblib in /home/brian/.local/lib/python3.8/site-packages (from sacremoses->transformers) (0.14.1)\n",
            "Requirement already satisfied: click in /usr/lib/python3/dist-packages (from sacremoses->transformers) (7.0)\n",
            "Requirement already satisfied: six in /usr/lib/python3/dist-packages (from sacremoses->transformers) (1.14.0)\n",
            "Defaulting to user installation because normal site-packages is not writeable\n",
            "Requirement already satisfied: pytorch-lightning in /home/brian/.local/lib/python3.8/site-packages (1.3.0)\n",
            "Requirement already satisfied: torch>=1.4 in /home/brian/.local/lib/python3.8/site-packages (from pytorch-lightning) (1.8.0+cu111)\n",
            "Requirement already satisfied: PyYAML<=5.4.1,>=5.1 in /usr/lib/python3/dist-packages (from pytorch-lightning) (5.3.1)\n",
            "Requirement already satisfied: fsspec[http]>=2021.4.0 in /home/brian/.local/lib/python3.8/site-packages (from pytorch-lightning) (2021.4.0)\n",
            "Requirement already satisfied: tensorboard!=2.5.0,>=2.2.0 in /home/brian/.local/lib/python3.8/site-packages (from pytorch-lightning) (2.4.1)\n",
            "Requirement already satisfied: tqdm>=4.41.0 in /home/brian/.local/lib/python3.8/site-packages (from pytorch-lightning) (4.60.0)\n",
            "Requirement already satisfied: numpy>=1.17.2 in /home/brian/.local/lib/python3.8/site-packages (from pytorch-lightning) (1.18.3)\n",
            "Requirement already satisfied: pyDeprecate==0.3.0 in /home/brian/.local/lib/python3.8/site-packages (from pytorch-lightning) (0.3.0)\n",
            "Requirement already satisfied: torchmetrics>=0.2.0 in /home/brian/.local/lib/python3.8/site-packages (from pytorch-lightning) (0.3.1)\n",
            "Requirement already satisfied: packaging in /home/brian/.local/lib/python3.8/site-packages (from pytorch-lightning) (20.9)\n",
            "Requirement already satisfied: future>=0.17.1 in /usr/lib/python3/dist-packages (from pytorch-lightning) (0.18.2)\n",
            "Requirement already satisfied: requests in /usr/lib/python3/dist-packages (from fsspec[http]>=2021.4.0->pytorch-lightning) (2.22.0)\n",
            "Requirement already satisfied: aiohttp in /home/brian/.local/lib/python3.8/site-packages (from fsspec[http]>=2021.4.0->pytorch-lightning) (3.7.4.post0)\n",
            "Requirement already satisfied: markdown>=2.6.8 in /home/brian/.local/lib/python3.8/site-packages (from tensorboard!=2.5.0,>=2.2.0->pytorch-lightning) (3.3.4)\n",
            "Requirement already satisfied: wheel>=0.26 in /usr/lib/python3/dist-packages (from tensorboard!=2.5.0,>=2.2.0->pytorch-lightning) (0.34.2)\n",
            "Requirement already satisfied: tensorboard-plugin-wit>=1.6.0 in /home/brian/.local/lib/python3.8/site-packages (from tensorboard!=2.5.0,>=2.2.0->pytorch-lightning) (1.8.0)\n",
            "Requirement already satisfied: grpcio>=1.24.3 in /home/brian/.local/lib/python3.8/site-packages (from tensorboard!=2.5.0,>=2.2.0->pytorch-lightning) (1.37.1)\n",
            "Requirement already satisfied: werkzeug>=0.11.15 in /home/brian/.local/lib/python3.8/site-packages (from tensorboard!=2.5.0,>=2.2.0->pytorch-lightning) (1.0.1)\n",
            "Requirement already satisfied: absl-py>=0.4 in /home/brian/.local/lib/python3.8/site-packages (from tensorboard!=2.5.0,>=2.2.0->pytorch-lightning) (0.12.0)\n",
            "Requirement already satisfied: protobuf>=3.6.0 in /usr/lib/python3/dist-packages (from tensorboard!=2.5.0,>=2.2.0->pytorch-lightning) (3.6.1)\n",
            "Requirement already satisfied: setuptools>=41.0.0 in /home/brian/.local/lib/python3.8/site-packages (from tensorboard!=2.5.0,>=2.2.0->pytorch-lightning) (56.1.0)\n",
            "Requirement already satisfied: six>=1.10.0 in /usr/lib/python3/dist-packages (from tensorboard!=2.5.0,>=2.2.0->pytorch-lightning) (1.14.0)\n",
            "Requirement already satisfied: google-auth<2,>=1.6.3 in /home/brian/.local/lib/python3.8/site-packages (from tensorboard!=2.5.0,>=2.2.0->pytorch-lightning) (1.30.0)\n",
            "Requirement already satisfied: google-auth-oauthlib<0.5,>=0.4.1 in /home/brian/.local/lib/python3.8/site-packages (from tensorboard!=2.5.0,>=2.2.0->pytorch-lightning) (0.4.4)\n",
            "Requirement already satisfied: pyasn1-modules>=0.2.1 in /home/brian/.local/lib/python3.8/site-packages (from google-auth<2,>=1.6.3->tensorboard!=2.5.0,>=2.2.0->pytorch-lightning) (0.2.8)\n",
            "Requirement already satisfied: cachetools<5.0,>=2.0.0 in /home/brian/.local/lib/python3.8/site-packages (from google-auth<2,>=1.6.3->tensorboard!=2.5.0,>=2.2.0->pytorch-lightning) (4.2.2)\n",
            "Requirement already satisfied: rsa<5,>=3.1.4 in /usr/lib/python3/dist-packages (from google-auth<2,>=1.6.3->tensorboard!=2.5.0,>=2.2.0->pytorch-lightning) (4.0)\n",
            "Requirement already satisfied: requests-oauthlib>=0.7.0 in /home/brian/.local/lib/python3.8/site-packages (from google-auth-oauthlib<0.5,>=0.4.1->tensorboard!=2.5.0,>=2.2.0->pytorch-lightning) (1.3.0)\n",
            "Requirement already satisfied: pyasn1<0.5.0,>=0.4.6 in /home/brian/.local/lib/python3.8/site-packages (from pyasn1-modules>=0.2.1->google-auth<2,>=1.6.3->tensorboard!=2.5.0,>=2.2.0->pytorch-lightning) (0.4.8)\n",
            "Requirement already satisfied: oauthlib>=3.0.0 in /usr/lib/python3/dist-packages (from requests-oauthlib>=0.7.0->google-auth-oauthlib<0.5,>=0.4.1->tensorboard!=2.5.0,>=2.2.0->pytorch-lightning) (3.1.0)\n",
            "Requirement already satisfied: typing-extensions in /home/brian/.local/lib/python3.8/site-packages (from torch>=1.4->pytorch-lightning) (3.10.0.0)\n",
            "Requirement already satisfied: async-timeout<4.0,>=3.0 in /home/brian/.local/lib/python3.8/site-packages (from aiohttp->fsspec[http]>=2021.4.0->pytorch-lightning) (3.0.1)\n",
            "Requirement already satisfied: chardet<5.0,>=2.0 in /usr/lib/python3/dist-packages (from aiohttp->fsspec[http]>=2021.4.0->pytorch-lightning) (3.0.4)\n",
            "Requirement already satisfied: attrs>=17.3.0 in /home/brian/.local/lib/python3.8/site-packages (from aiohttp->fsspec[http]>=2021.4.0->pytorch-lightning) (20.3.0)\n",
            "Requirement already satisfied: multidict<7.0,>=4.5 in /home/brian/.local/lib/python3.8/site-packages (from aiohttp->fsspec[http]>=2021.4.0->pytorch-lightning) (5.1.0)\n",
            "Requirement already satisfied: yarl<2.0,>=1.0 in /home/brian/.local/lib/python3.8/site-packages (from aiohttp->fsspec[http]>=2021.4.0->pytorch-lightning) (1.6.3)\n",
            "Requirement already satisfied: idna>=2.0 in /usr/lib/python3/dist-packages (from yarl<2.0,>=1.0->aiohttp->fsspec[http]>=2021.4.0->pytorch-lightning) (2.8)\n",
            "Requirement already satisfied: pyparsing>=2.0.2 in /home/brian/.local/lib/python3.8/site-packages (from packaging->pytorch-lightning) (2.4.7)\n",
            "Defaulting to user installation because normal site-packages is not writeable\n",
            "Requirement already satisfied: pandas in /home/brian/.local/lib/python3.8/site-packages (1.2.4)\n",
            "Requirement already satisfied: python-dateutil>=2.7.3 in /usr/lib/python3/dist-packages (from pandas) (2.7.3)\n",
            "Requirement already satisfied: numpy>=1.16.5 in /home/brian/.local/lib/python3.8/site-packages (from pandas) (1.18.3)\n",
            "Requirement already satisfied: pytz>=2017.3 in /usr/lib/python3/dist-packages (from pandas) (2019.3)\n",
            "Defaulting to user installation because normal site-packages is not writeable\n",
            "Requirement already satisfied: numpy in /home/brian/.local/lib/python3.8/site-packages (1.18.3)\n",
            "Defaulting to user installation because normal site-packages is not writeable\n",
            "Requirement already satisfied: torch in /home/brian/.local/lib/python3.8/site-packages (1.8.0+cu111)\n",
            "Requirement already satisfied: typing-extensions in /home/brian/.local/lib/python3.8/site-packages (from torch) (3.10.0.0)\n",
            "Requirement already satisfied: numpy in /home/brian/.local/lib/python3.8/site-packages (from torch) (1.18.3)\n",
            "Defaulting to user installation because normal site-packages is not writeable\n",
            "Requirement already satisfied: torchmetrics in /home/brian/.local/lib/python3.8/site-packages (0.3.1)\n",
            "Requirement already satisfied: torch>=1.3.1 in /home/brian/.local/lib/python3.8/site-packages (from torchmetrics) (1.8.0+cu111)\n",
            "Requirement already satisfied: numpy in /home/brian/.local/lib/python3.8/site-packages (from torchmetrics) (1.18.3)\n",
            "Requirement already satisfied: packaging in /home/brian/.local/lib/python3.8/site-packages (from torchmetrics) (20.9)\n",
            "Requirement already satisfied: typing-extensions in /home/brian/.local/lib/python3.8/site-packages (from torch>=1.3.1->torchmetrics) (3.10.0.0)\n",
            "Requirement already satisfied: pyparsing>=2.0.2 in /home/brian/.local/lib/python3.8/site-packages (from packaging->torchmetrics) (2.4.7)\n",
            "Defaulting to user installation because normal site-packages is not writeable\n",
            "Requirement already satisfied: ipywidgets in /home/brian/.local/lib/python3.8/site-packages (7.6.3)\n",
            "Requirement already satisfied: ipython>=4.0.0 in /home/brian/.local/lib/python3.8/site-packages (from ipywidgets) (7.23.1)\n",
            "Requirement already satisfied: traitlets>=4.3.1 in /home/brian/.local/lib/python3.8/site-packages (from ipywidgets) (5.0.5)\n",
            "Requirement already satisfied: jupyterlab-widgets>=1.0.0 in /home/brian/.local/lib/python3.8/site-packages (from ipywidgets) (1.0.0)\n",
            "Requirement already satisfied: widgetsnbextension~=3.5.0 in /home/brian/.local/lib/python3.8/site-packages (from ipywidgets) (3.5.1)\n",
            "Requirement already satisfied: nbformat>=4.2.0 in /home/brian/.local/lib/python3.8/site-packages (from ipywidgets) (5.1.3)\n",
            "Requirement already satisfied: ipykernel>=4.5.1 in /home/brian/.local/lib/python3.8/site-packages (from ipywidgets) (5.5.4)\n",
            "Requirement already satisfied: jupyter-client in /home/brian/.local/lib/python3.8/site-packages (from ipykernel>=4.5.1->ipywidgets) (6.1.12)\n",
            "Requirement already satisfied: tornado>=4.2 in /home/brian/.local/lib/python3.8/site-packages (from ipykernel>=4.5.1->ipywidgets) (6.1)\n",
            "Requirement already satisfied: pickleshare in /home/brian/.local/lib/python3.8/site-packages (from ipython>=4.0.0->ipywidgets) (0.7.5)\n",
            "Requirement already satisfied: pexpect>4.3 in /usr/lib/python3/dist-packages (from ipython>=4.0.0->ipywidgets) (4.6.0)\n",
            "Requirement already satisfied: pygments in /home/brian/.local/lib/python3.8/site-packages (from ipython>=4.0.0->ipywidgets) (2.9.0)\n",
            "Requirement already satisfied: jedi>=0.16 in /home/brian/.local/lib/python3.8/site-packages (from ipython>=4.0.0->ipywidgets) (0.18.0)\n",
            "Requirement already satisfied: setuptools>=18.5 in /home/brian/.local/lib/python3.8/site-packages (from ipython>=4.0.0->ipywidgets) (56.1.0)\n",
            "Requirement already satisfied: matplotlib-inline in /home/brian/.local/lib/python3.8/site-packages (from ipython>=4.0.0->ipywidgets) (0.1.2)\n",
            "Requirement already satisfied: prompt-toolkit!=3.0.0,!=3.0.1,<3.1.0,>=2.0.0 in /home/brian/.local/lib/python3.8/site-packages (from ipython>=4.0.0->ipywidgets) (3.0.18)\n",
            "Requirement already satisfied: decorator in /home/brian/.local/lib/python3.8/site-packages (from ipython>=4.0.0->ipywidgets) (5.0.7)\n",
            "Requirement already satisfied: backcall in /home/brian/.local/lib/python3.8/site-packages (from ipython>=4.0.0->ipywidgets) (0.2.0)\n",
            "Requirement already satisfied: parso<0.9.0,>=0.8.0 in /home/brian/.local/lib/python3.8/site-packages (from jedi>=0.16->ipython>=4.0.0->ipywidgets) (0.8.2)\n",
            "Requirement already satisfied: jupyter-core in /home/brian/.local/lib/python3.8/site-packages (from nbformat>=4.2.0->ipywidgets) (4.7.1)\n",
            "Requirement already satisfied: ipython-genutils in /home/brian/.local/lib/python3.8/site-packages (from nbformat>=4.2.0->ipywidgets) (0.2.0)\n",
            "Requirement already satisfied: jsonschema!=2.5.0,>=2.4 in /home/brian/.local/lib/python3.8/site-packages (from nbformat>=4.2.0->ipywidgets) (3.2.0)\n",
            "Requirement already satisfied: six>=1.11.0 in /usr/lib/python3/dist-packages (from jsonschema!=2.5.0,>=2.4->nbformat>=4.2.0->ipywidgets) (1.14.0)\n",
            "Requirement already satisfied: pyrsistent>=0.14.0 in /home/brian/.local/lib/python3.8/site-packages (from jsonschema!=2.5.0,>=2.4->nbformat>=4.2.0->ipywidgets) (0.17.3)\n",
            "Requirement already satisfied: attrs>=17.4.0 in /home/brian/.local/lib/python3.8/site-packages (from jsonschema!=2.5.0,>=2.4->nbformat>=4.2.0->ipywidgets) (20.3.0)\n",
            "Requirement already satisfied: wcwidth in /home/brian/.local/lib/python3.8/site-packages (from prompt-toolkit!=3.0.0,!=3.0.1,<3.1.0,>=2.0.0->ipython>=4.0.0->ipywidgets) (0.2.5)\n",
            "Requirement already satisfied: notebook>=4.4.1 in /home/brian/.local/lib/python3.8/site-packages (from widgetsnbextension~=3.5.0->ipywidgets) (6.3.0)\n",
            "Requirement already satisfied: jinja2 in /home/brian/.local/lib/python3.8/site-packages (from notebook>=4.4.1->widgetsnbextension~=3.5.0->ipywidgets) (2.11.2)\n",
            "Requirement already satisfied: prometheus-client in /home/brian/.local/lib/python3.8/site-packages (from notebook>=4.4.1->widgetsnbextension~=3.5.0->ipywidgets) (0.10.1)\n",
            "Requirement already satisfied: nbconvert in /home/brian/.local/lib/python3.8/site-packages (from notebook>=4.4.1->widgetsnbextension~=3.5.0->ipywidgets) (6.0.7)\n",
            "Requirement already satisfied: Send2Trash>=1.5.0 in /home/brian/.local/lib/python3.8/site-packages (from notebook>=4.4.1->widgetsnbextension~=3.5.0->ipywidgets) (1.5.0)\n",
            "Requirement already satisfied: terminado>=0.8.3 in /home/brian/.local/lib/python3.8/site-packages (from notebook>=4.4.1->widgetsnbextension~=3.5.0->ipywidgets) (0.9.4)\n",
            "Requirement already satisfied: argon2-cffi in /home/brian/.local/lib/python3.8/site-packages (from notebook>=4.4.1->widgetsnbextension~=3.5.0->ipywidgets) (20.1.0)\n",
            "Requirement already satisfied: pyzmq>=17 in /home/brian/.local/lib/python3.8/site-packages (from notebook>=4.4.1->widgetsnbextension~=3.5.0->ipywidgets) (22.0.3)\n",
            "Requirement already satisfied: python-dateutil>=2.1 in /usr/lib/python3/dist-packages (from jupyter-client->ipykernel>=4.5.1->ipywidgets) (2.7.3)\n",
            "Requirement already satisfied: ptyprocess in /home/brian/.local/lib/python3.8/site-packages (from terminado>=0.8.3->notebook>=4.4.1->widgetsnbextension~=3.5.0->ipywidgets) (0.7.0)\n",
            "Requirement already satisfied: cffi>=1.0.0 in /home/brian/.local/lib/python3.8/site-packages (from argon2-cffi->notebook>=4.4.1->widgetsnbextension~=3.5.0->ipywidgets) (1.14.5)\n",
            "Requirement already satisfied: pycparser in /home/brian/.local/lib/python3.8/site-packages (from cffi>=1.0.0->argon2-cffi->notebook>=4.4.1->widgetsnbextension~=3.5.0->ipywidgets) (2.20)\n",
            "Requirement already satisfied: MarkupSafe>=0.23 in /usr/lib/python3/dist-packages (from jinja2->notebook>=4.4.1->widgetsnbextension~=3.5.0->ipywidgets) (1.1.0)\n",
            "Requirement already satisfied: jupyterlab-pygments in /home/brian/.local/lib/python3.8/site-packages (from nbconvert->notebook>=4.4.1->widgetsnbextension~=3.5.0->ipywidgets) (0.1.2)\n",
            "Requirement already satisfied: bleach in /home/brian/.local/lib/python3.8/site-packages (from nbconvert->notebook>=4.4.1->widgetsnbextension~=3.5.0->ipywidgets) (3.3.0)\n",
            "Requirement already satisfied: defusedxml in /home/brian/.local/lib/python3.8/site-packages (from nbconvert->notebook>=4.4.1->widgetsnbextension~=3.5.0->ipywidgets) (0.7.1)\n",
            "Requirement already satisfied: testpath in /home/brian/.local/lib/python3.8/site-packages (from nbconvert->notebook>=4.4.1->widgetsnbextension~=3.5.0->ipywidgets) (0.4.4)\n",
            "Requirement already satisfied: entrypoints>=0.2.2 in /usr/lib/python3/dist-packages (from nbconvert->notebook>=4.4.1->widgetsnbextension~=3.5.0->ipywidgets) (0.3)\n",
            "Requirement already satisfied: nbclient<0.6.0,>=0.5.0 in /home/brian/.local/lib/python3.8/site-packages (from nbconvert->notebook>=4.4.1->widgetsnbextension~=3.5.0->ipywidgets) (0.5.3)\n",
            "Requirement already satisfied: pandocfilters>=1.4.1 in /home/brian/.local/lib/python3.8/site-packages (from nbconvert->notebook>=4.4.1->widgetsnbextension~=3.5.0->ipywidgets) (1.4.3)\n",
            "Requirement already satisfied: mistune<2,>=0.8.1 in /home/brian/.local/lib/python3.8/site-packages (from nbconvert->notebook>=4.4.1->widgetsnbextension~=3.5.0->ipywidgets) (0.8.4)\n",
            "Requirement already satisfied: nest-asyncio in /home/brian/.local/lib/python3.8/site-packages (from nbclient<0.6.0,>=0.5.0->nbconvert->notebook>=4.4.1->widgetsnbextension~=3.5.0->ipywidgets) (1.5.1)\n",
            "Requirement already satisfied: async-generator in /home/brian/.local/lib/python3.8/site-packages (from nbclient<0.6.0,>=0.5.0->nbconvert->notebook>=4.4.1->widgetsnbextension~=3.5.0->ipywidgets) (1.10)\n",
            "Requirement already satisfied: webencodings in /usr/lib/python3/dist-packages (from bleach->nbconvert->notebook>=4.4.1->widgetsnbextension~=3.5.0->ipywidgets) (0.5.1)\n",
            "Requirement already satisfied: packaging in /home/brian/.local/lib/python3.8/site-packages (from bleach->nbconvert->notebook>=4.4.1->widgetsnbextension~=3.5.0->ipywidgets) (20.9)\n",
            "Requirement already satisfied: pyparsing>=2.0.2 in /home/brian/.local/lib/python3.8/site-packages (from packaging->bleach->nbconvert->notebook>=4.4.1->widgetsnbextension~=3.5.0->ipywidgets) (2.4.7)\n",
            "Defaulting to user installation because normal site-packages is not writeable\n",
            "Requirement already satisfied: IProgress in /home/brian/.local/lib/python3.8/site-packages (0.4)\n",
            "Requirement already satisfied: six in /usr/lib/python3/dist-packages (from IProgress) (1.14.0)\n"
          ],
          "name": "stdout"
        }
      ]
    },
    {
      "cell_type": "markdown",
      "metadata": {
        "id": "45z2fqdffQZ9"
      },
      "source": [
        "## Imports"
      ]
    },
    {
      "cell_type": "code",
      "metadata": {
        "id": "sJFTchyfXcZA"
      },
      "source": [
        "# Python\n",
        "import json\n",
        "import os\n",
        "from typing import Optional\n",
        "\n",
        "# General 3rd Party\n",
        "import pandas as pd\n",
        "import numpy as np\n",
        "\n",
        "# HuggingFace\n",
        "from transformers import BertForSequenceClassification, BertTokenizerFast, BertConfig\n",
        "from transformers import AdamW, get_linear_schedule_with_warmup\n",
        "\n",
        "# PyTorch\n",
        "import torch\n",
        "from torch.functional import F\n",
        "from torch.utils.data import random_split, DataLoader\n",
        "\n",
        "# PyTorch Lightning\n",
        "import pytorch_lightning as pl\n",
        "from pytorch_lightning import Trainer, loggers, seed_everything\n",
        "from pytorch_lightning.callbacks import ModelCheckpoint\n",
        "\n",
        "import torchmetrics"
      ],
      "execution_count": null,
      "outputs": []
    },
    {
      "cell_type": "code",
      "metadata": {
        "colab": {
          "base_uri": "https://localhost:8080/"
        },
        "id": "DeKxnIjqgqNw",
        "outputId": "101c2fa0-3c5e-4c38-b194-90e326c9328d"
      },
      "source": [
        "seed_everything(42, workers=True)"
      ],
      "execution_count": null,
      "outputs": [
        {
          "output_type": "stream",
          "text": [
            "Global seed set to 42\n"
          ],
          "name": "stderr"
        },
        {
          "output_type": "execute_result",
          "data": {
            "text/plain": [
              "42"
            ]
          },
          "metadata": {
            "tags": []
          },
          "execution_count": 2
        }
      ]
    },
    {
      "cell_type": "code",
      "metadata": {
        "id": "RLMoHcIvGR3k",
        "colab": {
          "base_uri": "https://localhost:8080/"
        },
        "outputId": "1f71cbc1-6457-456d-cd85-dded30d7087d"
      },
      "source": [
        "MODEL_DIRECTORY = '/home/brian/Documents/kubernetes/models/toxic'\n",
        "\n",
        "directories_needed = [MODEL_DIRECTORY]\n",
        "\n",
        "dataset_path = '/home/brian/Documents/kubernetes/datasets/live/toxicity/train.csv'\n",
        "\n",
        "\n",
        "files_needed = [dataset_path]\n",
        "\n",
        "def assertFilesAndDirectoriesExist(files, directories):\n",
        "  for d in directories:\n",
        "    assert os.path.isdir(d)\n",
        "\n",
        "  for f in files:\n",
        "    assert os.path.exists(f)\n",
        "  \n",
        "  print(\"+ All files and directories accounted for!\")\n",
        "\n",
        "assertFilesAndDirectoriesExist(files_needed, directories_needed)"
      ],
      "execution_count": null,
      "outputs": [
        {
          "output_type": "stream",
          "text": [
            "+ All files and directories accounted for!\n"
          ],
          "name": "stdout"
        }
      ]
    },
    {
      "cell_type": "markdown",
      "metadata": {
        "id": "XWzxe_WLQiAc"
      },
      "source": [
        "## Load Data from Disk"
      ]
    },
    {
      "cell_type": "code",
      "metadata": {
        "id": "aIpBl1LLJVMD"
      },
      "source": [
        "toxicity_frame = pd.read_csv(dataset_path, usecols=['id', 'comment_text','target'])"
      ],
      "execution_count": null,
      "outputs": []
    },
    {
      "cell_type": "code",
      "metadata": {
        "id": "qV-ACl6kETk_"
      },
      "source": [
        "toxicity_frame['label'] = toxicity_frame['target'].apply(lambda x: 1 if x > 0 else 0)"
      ],
      "execution_count": null,
      "outputs": []
    },
    {
      "cell_type": "code",
      "metadata": {
        "id": "57Z_dsUJI8Em"
      },
      "source": [
        "toxicity_frame = toxicity_frame[['comment_text', 'label']].rename(columns={'comment_text': 'text'})"
      ],
      "execution_count": null,
      "outputs": []
    },
    {
      "cell_type": "code",
      "metadata": {
        "id": "UHj_pI3pEJH4"
      },
      "source": [
        "full_frame = toxicity_frame"
      ],
      "execution_count": null,
      "outputs": []
    },
    {
      "cell_type": "code",
      "metadata": {
        "colab": {
          "base_uri": "https://localhost:8080/",
          "height": 206
        },
        "id": "q5FGGF7mI6YC",
        "outputId": "efaa3802-8bc0-494a-9c4f-2a7aec5be370"
      },
      "source": [
        "full_frame.head()"
      ],
      "execution_count": null,
      "outputs": [
        {
          "output_type": "execute_result",
          "data": {
            "text/plain": [
              "                                                text  label\n",
              "0  This is so cool. It's like, 'would you want yo...      0\n",
              "1  Thank you!! This would make my life a lot less...      0\n",
              "2  This is such an urgent design problem; kudos t...      0\n",
              "3  Is this something I'll be able to install on m...      0\n",
              "4               haha you guys are a bunch of losers.      1"
            ],
            "text/html": [
              "<div>\n",
              "<style scoped>\n",
              "    .dataframe tbody tr th:only-of-type {\n",
              "        vertical-align: middle;\n",
              "    }\n",
              "\n",
              "    .dataframe tbody tr th {\n",
              "        vertical-align: top;\n",
              "    }\n",
              "\n",
              "    .dataframe thead th {\n",
              "        text-align: right;\n",
              "    }\n",
              "</style>\n",
              "<table border=\"1\" class=\"dataframe\">\n",
              "  <thead>\n",
              "    <tr style=\"text-align: right;\">\n",
              "      <th></th>\n",
              "      <th>text</th>\n",
              "      <th>label</th>\n",
              "    </tr>\n",
              "  </thead>\n",
              "  <tbody>\n",
              "    <tr>\n",
              "      <th>0</th>\n",
              "      <td>This is so cool. It's like, 'would you want yo...</td>\n",
              "      <td>0</td>\n",
              "    </tr>\n",
              "    <tr>\n",
              "      <th>1</th>\n",
              "      <td>Thank you!! This would make my life a lot less...</td>\n",
              "      <td>0</td>\n",
              "    </tr>\n",
              "    <tr>\n",
              "      <th>2</th>\n",
              "      <td>This is such an urgent design problem; kudos t...</td>\n",
              "      <td>0</td>\n",
              "    </tr>\n",
              "    <tr>\n",
              "      <th>3</th>\n",
              "      <td>Is this something I'll be able to install on m...</td>\n",
              "      <td>0</td>\n",
              "    </tr>\n",
              "    <tr>\n",
              "      <th>4</th>\n",
              "      <td>haha you guys are a bunch of losers.</td>\n",
              "      <td>1</td>\n",
              "    </tr>\n",
              "  </tbody>\n",
              "</table>\n",
              "</div>"
            ]
          },
          "metadata": {
            "tags": []
          },
          "execution_count": 8
        }
      ]
    },
    {
      "cell_type": "code",
      "metadata": {
        "id": "OIdJhLpDj9BW"
      },
      "source": [
        "full_frame = full_frame.sample(frac=1)"
      ],
      "execution_count": null,
      "outputs": []
    },
    {
      "cell_type": "code",
      "metadata": {
        "colab": {
          "base_uri": "https://localhost:8080/",
          "height": 206
        },
        "id": "op87CUpKKkk7",
        "outputId": "4991e18d-6742-4330-fa4d-353e2c4f878c"
      },
      "source": [
        "full_frame.head()"
      ],
      "execution_count": null,
      "outputs": [
        {
          "output_type": "execute_result",
          "data": {
            "text/plain": [
              "                                                      text  label\n",
              "286892   What a breathe of fresh air to have someone wh...      1\n",
              "419218   Your jewish friends were the ones who told you...      1\n",
              "1055330  Possible collusion by Trump and his affiliates...      0\n",
              "1382764  Exactly.  We need a % of GDP spending cap at t...      0\n",
              "256049   By your own comment, even if some of them vote...      0"
            ],
            "text/html": [
              "<div>\n",
              "<style scoped>\n",
              "    .dataframe tbody tr th:only-of-type {\n",
              "        vertical-align: middle;\n",
              "    }\n",
              "\n",
              "    .dataframe tbody tr th {\n",
              "        vertical-align: top;\n",
              "    }\n",
              "\n",
              "    .dataframe thead th {\n",
              "        text-align: right;\n",
              "    }\n",
              "</style>\n",
              "<table border=\"1\" class=\"dataframe\">\n",
              "  <thead>\n",
              "    <tr style=\"text-align: right;\">\n",
              "      <th></th>\n",
              "      <th>text</th>\n",
              "      <th>label</th>\n",
              "    </tr>\n",
              "  </thead>\n",
              "  <tbody>\n",
              "    <tr>\n",
              "      <th>286892</th>\n",
              "      <td>What a breathe of fresh air to have someone wh...</td>\n",
              "      <td>1</td>\n",
              "    </tr>\n",
              "    <tr>\n",
              "      <th>419218</th>\n",
              "      <td>Your jewish friends were the ones who told you...</td>\n",
              "      <td>1</td>\n",
              "    </tr>\n",
              "    <tr>\n",
              "      <th>1055330</th>\n",
              "      <td>Possible collusion by Trump and his affiliates...</td>\n",
              "      <td>0</td>\n",
              "    </tr>\n",
              "    <tr>\n",
              "      <th>1382764</th>\n",
              "      <td>Exactly.  We need a % of GDP spending cap at t...</td>\n",
              "      <td>0</td>\n",
              "    </tr>\n",
              "    <tr>\n",
              "      <th>256049</th>\n",
              "      <td>By your own comment, even if some of them vote...</td>\n",
              "      <td>0</td>\n",
              "    </tr>\n",
              "  </tbody>\n",
              "</table>\n",
              "</div>"
            ]
          },
          "metadata": {
            "tags": []
          },
          "execution_count": 10
        }
      ]
    },
    {
      "cell_type": "code",
      "metadata": {
        "id": "1I01-AxwMAF1"
      },
      "source": [
        "inputs = full_frame['text'].values\n",
        "labels = full_frame['label'].values"
      ],
      "execution_count": null,
      "outputs": []
    },
    {
      "cell_type": "markdown",
      "metadata": {
        "id": "8otF-OnEQ19k"
      },
      "source": [
        "# Data Preparation"
      ]
    },
    {
      "cell_type": "code",
      "metadata": {
        "id": "vg92IyPopeV8"
      },
      "source": [
        "tokenizer = BertTokenizerFast.from_pretrained('bert-base-uncased')"
      ],
      "execution_count": null,
      "outputs": []
    },
    {
      "cell_type": "code",
      "metadata": {
        "id": "JU6_eSi_EmbM"
      },
      "source": [
        "class TextLabelTokenizerDataset(torch.utils.data.Dataset):\n",
        "  \"\"\"Offensive Language Dataset\"\"\"\n",
        "\n",
        "  def __init__(self, inputs, labels, tokenizer):\n",
        "    super().__init__()\n",
        "\n",
        "    self.inputs = inputs\n",
        "    self.labels = labels\n",
        "    self.tokenizer = tokenizer\n",
        "\n",
        "  def __len__(self):\n",
        "    return len(self.inputs)\n",
        "  \n",
        "  def __getitem__(self, idx):\n",
        "    if torch.is_tensor(idx):\n",
        "      idx = idx.tolist()\n",
        "\n",
        "    encoding = self.tokenizer(\n",
        "        self.inputs[idx],\n",
        "        return_tensors='pt',\n",
        "        truncation=True,\n",
        "        padding='max_length',\n",
        "        max_length=500\n",
        "    )\n",
        "\n",
        "    input_ids = encoding[\"input_ids\"]\n",
        "    attention_mask = encoding[\"attention_mask\"]\n",
        "    \n",
        "    return {\n",
        "        \"input_ids\": input_ids.type(torch.long),\n",
        "        \"attention_mask\": attention_mask.type(torch.long),\n",
        "        \"target\": torch.tensor(self.labels[idx], dtype=torch.float)\n",
        "    }"
      ],
      "execution_count": null,
      "outputs": []
    },
    {
      "cell_type": "code",
      "metadata": {
        "id": "NMxan7eRNHhQ"
      },
      "source": [
        "text_label_tokenizer_dataset = TextLabelTokenizerDataset(inputs, labels, tokenizer)"
      ],
      "execution_count": null,
      "outputs": []
    },
    {
      "cell_type": "code",
      "metadata": {
        "id": "2TMAhzlvB3xC"
      },
      "source": [
        "class CustomDataModule(pl.LightningDataModule):\n",
        "  def __init__(self, dataset, batch_size: int = 32):\n",
        "    super().__init__()\n",
        "\n",
        "    self.dataset = dataset\n",
        "    self.batch_size = batch_size\n",
        "\n",
        "  def prepare_data(self):\n",
        "    # download\n",
        "    pass\n",
        "\n",
        "  def setup(self, stage: Optional[str] = None):\n",
        "    print(\"DATA MODULE SETUP\")\n",
        "    train_size = int(0.99 * len(self.dataset))\n",
        "    val_size = int(0.009 * len(self.dataset))\n",
        "    test_size = len(self.dataset) - train_size - val_size\n",
        "\n",
        "    self.train, self.val, self.test = random_split(\n",
        "        self.dataset, \n",
        "        [train_size, val_size, test_size]\n",
        "        )\n",
        "\n",
        "  def train_dataloader(self):\n",
        "      return DataLoader(self.train, batch_size=self.batch_size, num_workers=16, shuffle=True)\n",
        "\n",
        "  def val_dataloader(self):\n",
        "      return DataLoader(self.val, batch_size=self.batch_size, num_workers=16)\n",
        "\n",
        "  def test_dataloader(self):\n",
        "      return DataLoader(self.test, batch_size=self.batch_size, num_workers=16)"
      ],
      "execution_count": null,
      "outputs": []
    },
    {
      "cell_type": "code",
      "metadata": {
        "id": "oUu-kJGalZlJ"
      },
      "source": [
        "custom_datamodule = CustomDataModule(text_label_tokenizer_dataset, batch_size=16)"
      ],
      "execution_count": null,
      "outputs": []
    },
    {
      "cell_type": "markdown",
      "metadata": {
        "id": "R0YT3WszSXxV"
      },
      "source": [
        "# Model Preparation"
      ]
    },
    {
      "cell_type": "code",
      "metadata": {
        "id": "YqU1iOmjehcw"
      },
      "source": [
        "class BertForSequenceClassificationLM(pl.LightningModule):\n",
        "  def __init__(self, pretrained='bert-base-uncased', bert_weights=None, freeze=True, lr=3e-5, eps=1e-5):\n",
        "    super().__init__()\n",
        "\n",
        "    self.lr = lr\n",
        "    self.eps = eps\n",
        "\n",
        "    config = BertConfig.from_pretrained(pretrained)\n",
        "    config.num_labels = 1\n",
        "\n",
        "    self.classifier = BertForSequenceClassification(\n",
        "        config\n",
        "        )\n",
        "    \n",
        "    if (bert_weights):\n",
        "      weights = torch.load(bert_weights)\n",
        "      self.classifier.bert = weights\n",
        "\n",
        "    if (freeze):    \n",
        "      for param in self.classifier.bert.parameters():\n",
        "        param.requires_grad = False\n",
        "    \n",
        "    self.train_loss = []\n",
        "    self.val_loss = []\n",
        "    self.val_acc = []\n",
        "    self.test_loss = []\n",
        "    self.test_acc = []\n",
        "\n",
        "    self.loss = F.binary_cross_entropy_with_logits\n",
        "\n",
        "    self.validation_accuracy = torchmetrics.Accuracy()\n",
        "    self.test_accuracy = torchmetrics.Accuracy()\n",
        "\n",
        "  def forward(self, input_ids, attention_mask):\n",
        "    return self.classifier(\n",
        "        input_ids=input_ids, \n",
        "        attention_mask=attention_mask, \n",
        "        return_dict=True\n",
        "        )['logits']\n",
        "\n",
        "  def training_step(self, batch, batch_idx):\n",
        "    b_input_ids = batch['input_ids'].view(batch['input_ids'].shape[0], -1)\n",
        "    b_attention_masks = batch[\"attention_mask\"].view(batch['attention_mask'].shape[0], -1)\n",
        "    b_targets = batch[\"target\"].unsqueeze(1)\n",
        "\n",
        "    logits = self(b_input_ids, b_attention_masks)\n",
        "\n",
        "    loss = self.loss(logits, b_targets)\n",
        "\n",
        "    self.log('train_loss', loss, on_step=True, on_epoch=True, \n",
        "             prog_bar=True)\n",
        "\n",
        "    return {'loss': loss}\n",
        "  \n",
        "  def training_epoch_end(self, outputs):\n",
        "    avg_loss = torch.stack([x['loss'] for x in outputs]).mean()\n",
        "\n",
        "    self.log(f'epoch_train_loss_{self.current_epoch}', avg_loss)\n",
        "    self.train_loss.append(avg_loss)\n",
        "\n",
        "  def validation_step(self, batch, batch_idx):\n",
        "    b_input_ids = batch['input_ids'].view(batch['input_ids'].shape[0], -1)\n",
        "    b_attention_masks = batch[\"attention_mask\"].view(batch['attention_mask'].shape[0], -1)\n",
        "    b_targets = batch[\"target\"].unsqueeze(1)\n",
        "\n",
        "    logits = self(b_input_ids, b_attention_masks)\n",
        "\n",
        "    preds = torch.sigmoid(logits)\n",
        "\n",
        "    val_acc = torch.mean(((preds > 0.5) == b_targets).to(torch.float))\n",
        "    val_loss = self.loss(logits, b_targets)\n",
        "\n",
        "    logs = {'val_loss': val_loss, 'val_acc': val_acc}\n",
        "\n",
        "    self.log('val_loss', val_loss, on_step=True, on_epoch=True, \n",
        "             prog_bar=True)\n",
        "    \n",
        "    return logs\n",
        "\n",
        "  def validation_epoch_end(self, outputs):\n",
        "    avg_loss = torch.stack([x['val_loss'] for x in outputs]).mean()\n",
        "    avg_acc = torch.stack([x['val_acc'] for x in outputs]).mean()\n",
        "\n",
        "    self.log(f'epoch_val_accuracy', avg_acc, on_epoch=True, prog_bar=True)\n",
        "    self.log(f'epoch_val_loss', avg_loss, on_epoch=True, prog_bar=True)\n",
        "    print(\"val_acc\", avg_acc)\n",
        "    print(\"val_loss\", avg_loss)\n",
        "    \n",
        "    self.val_acc.append(avg_acc)\n",
        "    self.val_loss.append(avg_loss)\n",
        "  \n",
        "  def test_step(self, batch, batch_idx):\n",
        "    b_input_ids = batch['input_ids'].view(batch['input_ids'].shape[0], -1)\n",
        "    b_attention_masks = batch[\"attention_mask\"].view(batch['attention_mask'].shape[0], -1)\n",
        "    b_targets = batch[\"target\"].unsqueeze(1)\n",
        "\n",
        "    logits = self(b_input_ids, b_attention_masks)\n",
        "\n",
        "    preds = torch.sigmoid(logits)\n",
        "\n",
        "    test_acc = torch.mean(((preds > 0.5) == b_targets).to(torch.float))\n",
        "    test_loss = self.loss(logits, b_targets)\n",
        "\n",
        "    logs = {'test_loss': test_loss, 'test_acc': test_acc}\n",
        " \n",
        "    self.log('test_loss', test_loss, on_step=True, on_epoch=True, \n",
        "             prog_bar=True)\n",
        "    \n",
        "    return logs\n",
        "  \n",
        "  def test_epoch_end(self, outputs):\n",
        "    avg_loss = torch.stack([x['test_loss'] for x in outputs]).mean()\n",
        "    avg_acc = torch.stack([x['test_acc'] for x in outputs]).mean()\n",
        "\n",
        "    self.log(f'epoch_test_accuracy', avg_acc, on_epoch=True, prog_bar=True)\n",
        "    self.log(f'epoch_test_loss', avg_loss, on_epoch=True, prog_bar=True)\n",
        "    \n",
        "    self.test_acc.append(avg_acc)\n",
        "    self.test_loss.append(avg_loss)\n",
        "\n",
        "  def configure_optimizers(self):\n",
        "    optimizer = AdamW(self.parameters(), lr=self.lr, eps=self.eps)\n",
        "\n",
        "    return [optimizer]"
      ],
      "execution_count": null,
      "outputs": []
    },
    {
      "cell_type": "markdown",
      "metadata": {
        "id": "YsBnwb8RUHoY"
      },
      "source": [
        "# Training"
      ]
    },
    {
      "cell_type": "code",
      "metadata": {
        "id": "Gq9LDFHnVqNg",
        "colab": {
          "base_uri": "https://localhost:8080/"
        },
        "outputId": "c8b0e5d8-4ab8-4282-fa0d-3e9db904e216"
      },
      "source": [
        "checkpoint_callback = ModelCheckpoint(\n",
        "    monitor='epoch_val_accuracy',\n",
        "    dirpath=MODEL_DIRECTORY,\n",
        "    filename='toxic-{epoch:02d}-{epoch_val_accuracy:.6f}',\n",
        "    save_top_k=1,\n",
        "    mode='max',\n",
        ")"
      ],
      "execution_count": null,
      "outputs": [
        {
          "output_type": "stream",
          "text": [
            "/home/brian/.local/lib/python3.8/site-packages/pytorch_lightning/utilities/distributed.py:69: UserWarning: Checkpoint directory /home/brian/Documents/kubernetes/models/toxic exists and is not empty.\n",
            "  warnings.warn(*args, **kwargs)\n"
          ],
          "name": "stderr"
        }
      ]
    },
    {
      "cell_type": "code",
      "metadata": {
        "colab": {
          "base_uri": "https://localhost:8080/"
        },
        "id": "crvQcbpgkv3b",
        "outputId": "e0552ccc-a8a4-4161-9622-f285805e9cff"
      },
      "source": [
        "EPOCHS = 1\n",
        "\n",
        "trainer = Trainer(gpus=1, max_epochs=EPOCHS, callbacks=[checkpoint_callback])"
      ],
      "execution_count": null,
      "outputs": [
        {
          "output_type": "stream",
          "text": [
            "GPU available: True, used: True\n",
            "TPU available: False, using: 0 TPU cores\n"
          ],
          "name": "stderr"
        }
      ]
    },
    {
      "cell_type": "code",
      "metadata": {
        "id": "DkIHQKtekv06"
      },
      "source": [
        "model = BertForSequenceClassificationLM(bert_weights=\"/home/brian/Documents/kubernetes/models/base.pt\")"
      ],
      "execution_count": null,
      "outputs": []
    },
    {
      "cell_type": "code",
      "metadata": {
        "colab": {
          "base_uri": "https://localhost:8080/"
        },
        "id": "TEUMH4VY-IVr",
        "outputId": "87e1e626-2b05-4147-f4f6-224217c4d5f2"
      },
      "source": [
        "model.train(mode=True)\n",
        "print(\"setting training mode...\")"
      ],
      "execution_count": null,
      "outputs": [
        {
          "output_type": "stream",
          "text": [
            "setting training mode...\n"
          ],
          "name": "stdout"
        }
      ]
    },
    {
      "cell_type": "code",
      "metadata": {
        "id": "L9QnFXg53MM5",
        "colab": {
          "base_uri": "https://localhost:8080/",
          "height": 421,
          "referenced_widgets": [
            "92b3b5c4ed214b7ab24390ed73c57e41",
            "ab4e9925f55248c6835f0ad5ab127b6e",
            "224d5116be9746a2a7d7d51167dbd9d5",
            "d521ce66aca74e28bb9b9e71ab0f6574",
            "8197b03f3aba486190356df2bc6e861c",
            "5c97515c07df46dc95db856b0aeb7a55",
            "99f36f470eac4756acb653d56044f5f0",
            "609e7b5c3b7e495dad192eaa13c07451",
            "654128a9024a475e87b4a94593dc393e",
            "fe837293e79145c999aba73b072a19da",
            "78d9fc923f3a40779b4ff06a699d6f62",
            "38b2fb2d90cc46f2bc763dcb0b8abe0b",
            "c67cd10151504fec91b48c3b18b2c476",
            "f91a0fee9bde461c8fbcd391670bbe68",
            "ba0e14411d3848c49ae9f2564898a3b8",
            "5d8924f1ecec41f5add6fc78f5fd2bf3",
            "c56e841d86fd40cabe1f2014f85d67ad",
            "598bb065fa1a489894d911896c0b58fa",
            "48ff008e3cb84495bdd740645e18d51b",
            "34075940e75c428687cfe95096646c75",
            "4126b03f01c440f895efeef4510f5047",
            "dd1ae2093a4e4461aff84b6123845840"
          ]
        },
        "outputId": "9449eb1e-9d85-4e0c-aa36-65e2a03ad223"
      },
      "source": [
        "trainer.fit(model,custom_datamodule)"
      ],
      "execution_count": null,
      "outputs": [
        {
          "output_type": "stream",
          "text": [
            "LOCAL_RANK: 0 - CUDA_VISIBLE_DEVICES: [0]\n"
          ],
          "name": "stderr"
        },
        {
          "output_type": "stream",
          "text": [
            "DATA MODULE SETUP\n"
          ],
          "name": "stdout"
        },
        {
          "output_type": "stream",
          "text": [
            "\n",
            "  | Name                | Type                          | Params\n",
            "----------------------------------------------------------------------\n",
            "0 | classifier          | BertForSequenceClassification | 109 M \n",
            "1 | validation_accuracy | Accuracy                      | 0     \n",
            "2 | test_accuracy       | Accuracy                      | 0     \n",
            "----------------------------------------------------------------------\n",
            "769       Trainable params\n",
            "109 M     Non-trainable params\n",
            "109 M     Total params\n",
            "437.932   Total estimated model params size (MB)\n"
          ],
          "name": "stderr"
        },
        {
          "output_type": "display_data",
          "data": {
            "text/plain": [
              "Validation sanity check: 0it [00:00, ?it/s]"
            ],
            "application/vnd.jupyter.widget-view+json": {
              "version_major": 2,
              "version_minor": 0,
              "model_id": "92b3b5c4ed214b7ab24390ed73c57e41"
            }
          },
          "metadata": {
            "tags": []
          }
        },
        {
          "output_type": "stream",
          "text": [
            "Global seed set to 42\n"
          ],
          "name": "stderr"
        },
        {
          "output_type": "stream",
          "text": [
            "val_acc tensor(0.5312, device='cuda:0')\n",
            "val_loss tensor(0.6890, device='cuda:0')\n"
          ],
          "name": "stdout"
        },
        {
          "output_type": "display_data",
          "data": {
            "text/plain": [
              "Training: 0it [00:00, ?it/s]"
            ],
            "application/vnd.jupyter.widget-view+json": {
              "version_major": 2,
              "version_minor": 0,
              "model_id": "38b2fb2d90cc46f2bc763dcb0b8abe0b"
            }
          },
          "metadata": {
            "tags": []
          }
        },
        {
          "output_type": "stream",
          "text": [
            "/home/brian/.local/lib/python3.8/site-packages/pytorch_lightning/utilities/distributed.py:69: UserWarning: Detected KeyboardInterrupt, attempting graceful shutdown...\n",
            "  warnings.warn(*args, **kwargs)\n"
          ],
          "name": "stderr"
        }
      ]
    },
    {
      "cell_type": "code",
      "metadata": {
        "id": "eRzipXeyDaGE"
      },
      "source": [
        "# torch.save(model, MODEL_DIRECTORY+\"/toxic.pt\")"
      ],
      "execution_count": null,
      "outputs": []
    }
  ]
}